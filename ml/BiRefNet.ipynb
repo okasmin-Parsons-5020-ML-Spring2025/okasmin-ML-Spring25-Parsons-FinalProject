{
 "cells": [
  {
   "cell_type": "markdown",
   "metadata": {},
   "source": [
    "## Testing out BiRefNet Background Removal v1.4 Model\n",
    "#### https://huggingface.co/ZhengPeng7/BiRefNet"
   ]
  },
  {
   "cell_type": "markdown",
   "metadata": {},
   "source": [
    "#### Struggling with this model due to:\n",
    "AssertionError: Torch not compiled with CUDA enabled"
   ]
  },
  {
   "cell_type": "code",
   "execution_count": null,
   "metadata": {},
   "outputs": [],
   "source": [
    "# pip uninstall torch"
   ]
  },
  {
   "cell_type": "code",
   "execution_count": null,
   "metadata": {},
   "outputs": [],
   "source": [
    "# pip install torch torchvision torchaudio\n",
    "# pip install torch torchvision torchaudio -f https://download.pytorch.org/whl/metal.html"
   ]
  },
  {
   "cell_type": "code",
   "execution_count": null,
   "metadata": {},
   "outputs": [],
   "source": [
    "import torch\n",
    "\n",
    "print(\"PyTorch version:\", torch.__version__)\n",
    "print(\"CUDA available:\", torch.cuda.is_available())\n",
    "print(\"Device:\", torch.device(\"cuda\" if torch.cuda.is_available() else \"cpu\"))\n"
   ]
  },
  {
   "cell_type": "markdown",
   "metadata": {},
   "source": [
    "##### cells below are code copied from documentation"
   ]
  },
  {
   "cell_type": "code",
   "execution_count": null,
   "metadata": {},
   "outputs": [],
   "source": [
    "# Downloading all codes & dependencies\n",
    "!rm -rf BiRefNet/\n",
    "!git clone https://github.com/ZhengPeng7/BiRefNet.git\n",
    "!pip uninstall -q torchaudio torchdata torchtext -y\n",
    "!pip install -q -r BiRefNet/requirements.txt\n",
    "!pip install -q -U gdown"
   ]
  },
  {
   "cell_type": "code",
   "execution_count": null,
   "metadata": {},
   "outputs": [],
   "source": [
    "# Download a sample image in very high resolution\n",
    "!gdown 1DGBe63XrwwSutS84FrrrjDga3BiuQsRc\n",
    "!mkdir images_todo\n",
    "!mv Helicopter-HR.jpg images_todo/\n",
    "# # Download weights locally\n",
    "# !wget https://github.com/ZhengPeng7/BiRefNet/releases/download/v1/BiRefNet-general-epoch_244.pth\n",
    "%cd BiRefNet"
   ]
  },
  {
   "cell_type": "markdown",
   "metadata": {},
   "source": []
  },
  {
   "cell_type": "code",
   "execution_count": null,
   "metadata": {},
   "outputs": [],
   "source": [
    "# Imports\n",
    "from PIL import Image\n",
    "import torch\n",
    "from torchvision import transforms\n",
    "from IPython.display import display\n",
    "\n",
    "from models.birefnet import BiRefNet\n",
    "\n",
    "model_name = ['BiRefNet', 'BiRefNet_HR', 'BiRefNet_HR-matting'][0]\n",
    "\n",
    "# # Option 1: loading BiRefNet with weights:\n",
    "# from transformers import AutoModelForImageSegmentation\n",
    "# birefnet = AutoModelForImageSegmentation.from_pretrained('zhengpeng7/{}'.format(model_name), trust_remote_code=True)\n",
    "\n",
    "# # Option-2: loading weights with BiReNet codes:\n",
    "birefnet = BiRefNet.from_pretrained('zhengpeng7/BiRefNet')\n",
    "\n",
    "# # Option-3: Loading model and weights from local disk:\n",
    "# from utils import check_state_dict\n",
    "\n",
    "# birefnet = BiRefNet(bb_pretrained=False)\n",
    "# state_dict = torch.load('../BiRefNet-general-epoch_244.pth', map_location='cpu')\n",
    "# state_dict = check_state_dict(state_dict)\n",
    "# birefnet.load_state_dict(state_dict)\n",
    "\n",
    "\n",
    "# Load Model\n",
    "device = 'cuda'\n",
    "torch.set_float32_matmul_precision(['high', 'highest'][0])\n",
    "\n",
    "birefnet.to(device)\n",
    "birefnet.eval()\n",
    "print('BiRefNet is ready to use.')\n",
    "birefnet.half()\n",
    "\n",
    "# Input Data\n",
    "transform_image = transforms.Compose([\n",
    "    transforms.Resize((1024, 1024) if '_HR' not in model_name else (2048, 2048)),\n",
    "    transforms.ToTensor(),\n",
    "    transforms.Normalize([0.485, 0.456, 0.406], [0.229, 0.224, 0.225])\n",
    "])"
   ]
  },
  {
   "cell_type": "code",
   "execution_count": null,
   "metadata": {},
   "outputs": [],
   "source": []
  }
 ],
 "metadata": {
  "kernelspec": {
   "display_name": "myenv",
   "language": "python",
   "name": "python3"
  },
  "language_info": {
   "codemirror_mode": {
    "name": "ipython",
    "version": 3
   },
   "file_extension": ".py",
   "mimetype": "text/x-python",
   "name": "python",
   "nbconvert_exporter": "python",
   "pygments_lexer": "ipython3",
   "version": "3.10.16"
  }
 },
 "nbformat": 4,
 "nbformat_minor": 2
}
