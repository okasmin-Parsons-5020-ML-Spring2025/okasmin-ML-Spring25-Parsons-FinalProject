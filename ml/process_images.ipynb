{
 "cells": [
  {
   "cell_type": "markdown",
   "metadata": {},
   "source": [
    "#### FILTER & NORMALIZE & ARRANGE Images"
   ]
  },
  {
   "cell_type": "code",
   "execution_count": null,
   "metadata": {},
   "outputs": [],
   "source": [
    "import cv2\n",
    "import numpy as np\n",
    "import os\n",
    "from sklearn.decomposition import PCA\n",
    "from PIL import Image\n",
    "from sklearn.cluster import KMeans\n",
    "import matplotlib.pyplot as plt"
   ]
  },
  {
   "cell_type": "markdown",
   "metadata": {},
   "source": [
    "##### FILTER\n",
    "- Don't want images with multiple items\n",
    "- Don't want images that don't have a clear single item"
   ]
  },
  {
   "cell_type": "code",
   "execution_count": 20,
   "metadata": {},
   "outputs": [
    {
     "name": "stdout",
     "output_type": "stream",
     "text": [
      "Collecting ultralytics\n",
      "  Downloading ultralytics-8.3.122-py3-none-any.whl.metadata (37 kB)\n",
      "Requirement already satisfied: numpy>=1.23.0 in /opt/miniconda3/envs/myenv/lib/python3.10/site-packages (from ultralytics) (1.26.4)\n",
      "Requirement already satisfied: matplotlib>=3.3.0 in /opt/miniconda3/envs/myenv/lib/python3.10/site-packages (from ultralytics) (3.10.1)\n",
      "Requirement already satisfied: opencv-python>=4.6.0 in /opt/miniconda3/envs/myenv/lib/python3.10/site-packages (from ultralytics) (4.11.0.86)\n",
      "Requirement already satisfied: pillow>=7.1.2 in /opt/miniconda3/envs/myenv/lib/python3.10/site-packages (from ultralytics) (11.1.0)\n",
      "Requirement already satisfied: pyyaml>=5.3.1 in /opt/miniconda3/envs/myenv/lib/python3.10/site-packages (from ultralytics) (6.0.2)\n",
      "Requirement already satisfied: requests>=2.23.0 in /opt/miniconda3/envs/myenv/lib/python3.10/site-packages (from ultralytics) (2.32.3)\n",
      "Requirement already satisfied: scipy>=1.4.1 in /opt/miniconda3/envs/myenv/lib/python3.10/site-packages (from ultralytics) (1.15.2)\n",
      "Requirement already satisfied: torch>=1.8.0 in /opt/miniconda3/envs/myenv/lib/python3.10/site-packages (from ultralytics) (2.5.1)\n",
      "Requirement already satisfied: torchvision>=0.9.0 in /opt/miniconda3/envs/myenv/lib/python3.10/site-packages (from ultralytics) (0.20.1)\n",
      "Requirement already satisfied: tqdm>=4.64.0 in /opt/miniconda3/envs/myenv/lib/python3.10/site-packages (from ultralytics) (4.67.1)\n",
      "Requirement already satisfied: psutil in /opt/miniconda3/envs/myenv/lib/python3.10/site-packages (from ultralytics) (5.9.0)\n",
      "Collecting py-cpuinfo (from ultralytics)\n",
      "  Downloading py_cpuinfo-9.0.0-py3-none-any.whl.metadata (794 bytes)\n",
      "Requirement already satisfied: pandas>=1.1.4 in /opt/miniconda3/envs/myenv/lib/python3.10/site-packages (from ultralytics) (2.2.3)\n",
      "Collecting seaborn>=0.11.0 (from ultralytics)\n",
      "  Downloading seaborn-0.13.2-py3-none-any.whl.metadata (5.4 kB)\n",
      "Collecting ultralytics-thop>=2.0.0 (from ultralytics)\n",
      "  Downloading ultralytics_thop-2.0.14-py3-none-any.whl.metadata (9.4 kB)\n",
      "Requirement already satisfied: contourpy>=1.0.1 in /opt/miniconda3/envs/myenv/lib/python3.10/site-packages (from matplotlib>=3.3.0->ultralytics) (1.3.1)\n",
      "Requirement already satisfied: cycler>=0.10 in /opt/miniconda3/envs/myenv/lib/python3.10/site-packages (from matplotlib>=3.3.0->ultralytics) (0.12.1)\n",
      "Requirement already satisfied: fonttools>=4.22.0 in /opt/miniconda3/envs/myenv/lib/python3.10/site-packages (from matplotlib>=3.3.0->ultralytics) (4.57.0)\n",
      "Requirement already satisfied: kiwisolver>=1.3.1 in /opt/miniconda3/envs/myenv/lib/python3.10/site-packages (from matplotlib>=3.3.0->ultralytics) (1.4.8)\n",
      "Requirement already satisfied: packaging>=20.0 in /opt/miniconda3/envs/myenv/lib/python3.10/site-packages (from matplotlib>=3.3.0->ultralytics) (24.2)\n",
      "Requirement already satisfied: pyparsing>=2.3.1 in /opt/miniconda3/envs/myenv/lib/python3.10/site-packages (from matplotlib>=3.3.0->ultralytics) (3.2.3)\n",
      "Requirement already satisfied: python-dateutil>=2.7 in /opt/miniconda3/envs/myenv/lib/python3.10/site-packages (from matplotlib>=3.3.0->ultralytics) (2.9.0.post0)\n",
      "Requirement already satisfied: pytz>=2020.1 in /opt/miniconda3/envs/myenv/lib/python3.10/site-packages (from pandas>=1.1.4->ultralytics) (2025.2)\n",
      "Requirement already satisfied: tzdata>=2022.7 in /opt/miniconda3/envs/myenv/lib/python3.10/site-packages (from pandas>=1.1.4->ultralytics) (2025.2)\n",
      "Requirement already satisfied: charset-normalizer<4,>=2 in /opt/miniconda3/envs/myenv/lib/python3.10/site-packages (from requests>=2.23.0->ultralytics) (3.4.1)\n",
      "Requirement already satisfied: idna<4,>=2.5 in /opt/miniconda3/envs/myenv/lib/python3.10/site-packages (from requests>=2.23.0->ultralytics) (3.10)\n",
      "Requirement already satisfied: urllib3<3,>=1.21.1 in /opt/miniconda3/envs/myenv/lib/python3.10/site-packages (from requests>=2.23.0->ultralytics) (2.4.0)\n",
      "Requirement already satisfied: certifi>=2017.4.17 in /opt/miniconda3/envs/myenv/lib/python3.10/site-packages (from requests>=2.23.0->ultralytics) (2025.1.31)\n",
      "Requirement already satisfied: filelock in /opt/miniconda3/envs/myenv/lib/python3.10/site-packages (from torch>=1.8.0->ultralytics) (3.18.0)\n",
      "Requirement already satisfied: typing-extensions>=4.8.0 in /opt/miniconda3/envs/myenv/lib/python3.10/site-packages (from torch>=1.8.0->ultralytics) (4.13.2)\n",
      "Requirement already satisfied: networkx in /opt/miniconda3/envs/myenv/lib/python3.10/site-packages (from torch>=1.8.0->ultralytics) (3.4.2)\n",
      "Requirement already satisfied: jinja2 in /opt/miniconda3/envs/myenv/lib/python3.10/site-packages (from torch>=1.8.0->ultralytics) (3.1.6)\n",
      "Requirement already satisfied: fsspec in /opt/miniconda3/envs/myenv/lib/python3.10/site-packages (from torch>=1.8.0->ultralytics) (2025.3.2)\n",
      "Requirement already satisfied: sympy==1.13.1 in /opt/miniconda3/envs/myenv/lib/python3.10/site-packages (from torch>=1.8.0->ultralytics) (1.13.1)\n",
      "Requirement already satisfied: mpmath<1.4,>=1.1.0 in /opt/miniconda3/envs/myenv/lib/python3.10/site-packages (from sympy==1.13.1->torch>=1.8.0->ultralytics) (1.3.0)\n",
      "Requirement already satisfied: six>=1.5 in /opt/miniconda3/envs/myenv/lib/python3.10/site-packages (from python-dateutil>=2.7->matplotlib>=3.3.0->ultralytics) (1.17.0)\n",
      "Requirement already satisfied: MarkupSafe>=2.0 in /opt/miniconda3/envs/myenv/lib/python3.10/site-packages (from jinja2->torch>=1.8.0->ultralytics) (3.0.2)\n",
      "Downloading ultralytics-8.3.122-py3-none-any.whl (1.0 MB)\n",
      "\u001b[2K   \u001b[90m━━━━━━━━━━━━━━━━━━━━━━━━━━━━━━━━━━━━━━━━\u001b[0m \u001b[32m1.0/1.0 MB\u001b[0m \u001b[31m1.1 MB/s\u001b[0m eta \u001b[36m0:00:00\u001b[0ma \u001b[36m0:00:01\u001b[0m\n",
      "\u001b[?25hDownloading seaborn-0.13.2-py3-none-any.whl (294 kB)\n",
      "Downloading ultralytics_thop-2.0.14-py3-none-any.whl (26 kB)\n",
      "Downloading py_cpuinfo-9.0.0-py3-none-any.whl (22 kB)\n",
      "Installing collected packages: py-cpuinfo, ultralytics-thop, seaborn, ultralytics\n",
      "Successfully installed py-cpuinfo-9.0.0 seaborn-0.13.2 ultralytics-8.3.122 ultralytics-thop-2.0.14\n",
      "Note: you may need to restart the kernel to use updated packages.\n"
     ]
    }
   ],
   "source": [
    "pip install ultralytics"
   ]
  },
  {
   "cell_type": "code",
   "execution_count": null,
   "metadata": {},
   "outputs": [],
   "source": [
    "def is_valid_mask(image_path, max_fill_ratio=0.75):\n",
    "    img = cv2.imread(image_path, cv2.IMREAD_GRAYSCALE)\n",
    "   \n",
    "   # binary image\n",
    "    _, binary = cv2.threshold(img, 127, 255, cv2.THRESH_BINARY)\n",
    "\n",
    "    white_ratio = np.sum(binary == 255) / binary.size\n",
    "    \n",
    "    # get contours\n",
    "    contours, _ = cv2.findContours(binary, cv2.RETR_EXTERNAL, cv2.CHAIN_APPROX_SIMPLE)\n",
    "\n",
    "    # filter out images with more than 1 contour (object)\n",
    "    if len(contours) != 1:\n",
    "        return False\n",
    "\n",
    "    # filter out white blob images\n",
    "    if white_ratio > max_fill_ratio:\n",
    "        return False\n",
    "\n",
    "    return True"
   ]
  },
  {
   "cell_type": "markdown",
   "metadata": {},
   "source": [
    "note: not working for detecting 1 object when 3 vases are all touching, but does work when multiple vases are not touching. using an object detection model is much slower so I think this is fine for now"
   ]
  },
  {
   "cell_type": "markdown",
   "metadata": {},
   "source": [
    "#### TEST"
   ]
  },
  {
   "cell_type": "code",
   "execution_count": 88,
   "metadata": {},
   "outputs": [
    {
     "name": "stdout",
     "output_type": "stream",
     "text": [
      "True T\n",
      "True T\n",
      "False F\n",
      "True F\n",
      "False F\n"
     ]
    }
   ],
   "source": [
    "# public/data/initial_test/BRIA/1029mask.png --> valid\n",
    "print(is_valid_mask(\"../public/data/initial_test/BRIA/1029mask.png\"), \"T\")\n",
    "\n",
    "# public/data/initial_test/BRIA/9511mask.png --> valid\n",
    "print(is_valid_mask(\"../public/data/initial_test/BRIA/9511mask.png\"), \"T\")\n",
    "\n",
    "# public/data/initial_test/BRIA/9532mask.png --> invalid (multiple)\n",
    "print(is_valid_mask(\"../public/data/initial_test/BRIA/9532mask.png\"), \"F\")\n",
    "\n",
    "# public/data/initial_test/BRIA/20106mask.png --> invalid (multiple)\n",
    "print(is_valid_mask(\"../public/data/initial_test/BRIA/20106mask.png\"), \"F\")\n",
    "\n",
    "# public/data/initial_test/BRIA/20073mask.png --> invalid (blob)\n",
    "print(is_valid_mask(\"../public/data/initial_test/BRIA/20073mask.png\"), \"F\")\n"
   ]
  },
  {
   "cell_type": "code",
   "execution_count": null,
   "metadata": {},
   "outputs": [],
   "source": [
    "def extract_hu_moments(image_path, output_size=(128, 128)):\n",
    "    img = cv2.imread(image_path, cv2.IMREAD_GRAYSCALE)\n",
    "    _, binary = cv2.threshold(img, 128, 255, cv2.THRESH_BINARY)\n",
    "\n",
    "    # call this after validating with is_valid_mask so will always have 1 contour\n",
    "    contours, _ = cv2.findContours(binary, cv2.RETR_EXTERNAL, cv2.CHAIN_APPROX_SIMPLE)\n",
    "    cnt = contours[0]  \n",
    "\n",
    "    # crop image to bounding box\n",
    "    x, y, w, h = cv2.boundingRect(cnt)\n",
    "    cropped = binary[y:y+h, x:x+w]\n",
    "\n",
    "    # resize and create new blank canvas for object\n",
    "    scale = min(output_size[0] / h, output_size[1] / w)\n",
    "    new_w, new_h = int(w * scale), int(h * scale)\n",
    "    resized = cv2.resize(cropped, (new_w, new_h), interpolation=cv2.INTER_AREA)\n",
    "\n",
    "    canvas = np.zeros(output_size, dtype=np.uint8)\n",
    "    x_offset = (output_size[1] - new_w) // 2\n",
    "    y_offset = (output_size[0] - new_h) // 2\n",
    "    canvas[y_offset:y_offset + new_h, x_offset:x_offset + new_w] = resized\n",
    "\n",
    "    # get Hu Moments\n",
    "    moments = cv2.moments(cnt)\n",
    "    hu = cv2.HuMoments(moments).flatten()\n",
    "    # need to return log version for scaling/ normalizing numbers\n",
    "    return -np.sign(hu) * np.log10(np.abs(hu) + 1e-10)"
   ]
  },
  {
   "cell_type": "code",
   "execution_count": 90,
   "metadata": {},
   "outputs": [
    {
     "data": {
      "text/plain": [
       "array([    0.44785,      1.0752,      2.5089,      2.7984,      5.4521,      3.3362,     -7.1761])"
      ]
     },
     "execution_count": 90,
     "metadata": {},
     "output_type": "execute_result"
    }
   ],
   "source": [
    "extract_hu_moments(\"../public/data/initial_test/BRIA/1029mask.png\")"
   ]
  },
  {
   "cell_type": "code",
   "execution_count": null,
   "metadata": {},
   "outputs": [],
   "source": [
    "# attempt to sort image shapes by on hu moments\n",
    "def sort_images(folder_path):\n",
    "    all_files = sorted(os.listdir(folder_path))\n",
    "    image_paths = [os.path.join(folder_path, f) for f in all_files if f.lower().endswith((\".png\"))]\n",
    "    \n",
    "    valid_paths = []\n",
    "    features = []\n",
    "\n",
    "    for path in image_paths:\n",
    "        if is_valid_mask(path):\n",
    "            hu = extract_hu_moments(path)\n",
    "            if hu is not None:\n",
    "                valid_paths.append(path)\n",
    "                features.append(hu)\n",
    "\n",
    "    # print(features[0])\n",
    "\n",
    "    pca = PCA(n_components=7)\n",
    "    scores = pca.fit_transform(np.array(features))[:, 0]    \n",
    "    sorted_indices = np.argsort(scores)\n",
    "    sorted_paths = [valid_paths[i] for i in sorted_indices]\n",
    "\n",
    "    return sorted_paths"
   ]
  },
  {
   "cell_type": "code",
   "execution_count": 139,
   "metadata": {},
   "outputs": [
    {
     "name": "stdout",
     "output_type": "stream",
     "text": [
      "[    0.44785      1.0752      2.5089      2.7984      5.4521      3.3362     -7.1761]\n",
      "260\n",
      "280\n"
     ]
    }
   ],
   "source": [
    "folder_path = '../public/data/initial_test/BRIA'\n",
    "\n",
    "all_files = sorted(os.listdir(folder_path))\n",
    "image_paths = [os.path.join(folder_path, f) for f in all_files if f.lower().endswith((\".png\"))]\n",
    "\n",
    "sorted_images = sort_images(folder_path)\n",
    "\n",
    "print(len(sorted_images))\n",
    "print(len(image_paths))"
   ]
  },
  {
   "cell_type": "code",
   "execution_count": 140,
   "metadata": {},
   "outputs": [],
   "source": [
    "def create_simple_contact_sheet(image_paths, thumb_size=(128, 128), columns=10, output_path=\"../public/data/initial_test/contact_sheet.jpg\"):\n",
    "    rows = (len(image_paths) + columns - 1) // columns\n",
    "    sheet_width = columns * thumb_size[0]\n",
    "    sheet_height = rows * thumb_size[1]\n",
    "\n",
    "    contact_sheet = Image.new(\"RGB\", (sheet_width, sheet_height), color=\"white\")\n",
    "\n",
    "    for i, path in enumerate(image_paths):\n",
    "        img = Image.open(path).convert(\"RGB\").resize(thumb_size)\n",
    "        x = (i % columns) * thumb_size[0]\n",
    "        y = (i // columns) * thumb_size[1]\n",
    "        contact_sheet.paste(img, (x, y))\n",
    "\n",
    "    contact_sheet.save(output_path)\n",
    "    print(f\"Saved: {output_path}\")"
   ]
  },
  {
   "cell_type": "code",
   "execution_count": 141,
   "metadata": {},
   "outputs": [
    {
     "name": "stdout",
     "output_type": "stream",
     "text": [
      "Saved: ../public/data/initial_test/sorted_contact_sheet.jpg\n",
      "Saved: ../public/data/initial_test/unsorted_contact_sheet.jpg\n"
     ]
    }
   ],
   "source": [
    "create_simple_contact_sheet(image_paths=sorted_images,  output_path=\"../public/data/initial_test/sorted_contact_sheet.jpg\")\n",
    "create_simple_contact_sheet(image_paths=image_paths,  output_path=\"../public/data/initial_test/unsorted_contact_sheet.jpg\")"
   ]
  },
  {
   "cell_type": "code",
   "execution_count": 100,
   "metadata": {},
   "outputs": [],
   "source": [
    "def cluster_image_shapes(folder_path, n_clusters=3):\n",
    "    image_paths = [os.path.join(folder_path, f) for f in sorted(os.listdir(folder_path)) if f.lower().endswith((\".png\", \".jpg\", \".jpeg\"))]\n",
    "\n",
    "    features = []\n",
    "    valid_paths = []\n",
    "\n",
    "    for path in image_paths:\n",
    "        if is_valid_mask(path):\n",
    "            hu = extract_hu_moments(path)\n",
    "            if hu is not None:\n",
    "                valid_paths.append(path)\n",
    "                features.append(hu)\n",
    "\n",
    "    features_np = np.array(features)\n",
    "\n",
    "    # PCA to 2D for visualization\n",
    "    pca = PCA(n_components=2)\n",
    "    reduced_features = pca.fit_transform(features_np)\n",
    "\n",
    "    # KMeans clustering\n",
    "    kmeans = KMeans(n_clusters=n_clusters, random_state=0)\n",
    "    labels = kmeans.fit_predict(reduced_features)\n",
    "\n",
    "    return valid_paths, reduced_features, labels"
   ]
  },
  {
   "cell_type": "code",
   "execution_count": 110,
   "metadata": {},
   "outputs": [],
   "source": [
    "paths, coords, labels = cluster_image_shapes(folder_path, n_clusters=6)"
   ]
  },
  {
   "cell_type": "code",
   "execution_count": null,
   "metadata": {},
   "outputs": [],
   "source": [
    "def plot_shape_clusters(pca_coords, labels):\n",
    "    n_clusters = len(set(labels))\n",
    "    plt.figure(figsize=(8, 6))\n",
    "    for i in range(n_clusters):\n",
    "        pts = pca_coords[np.array(labels) == i]\n",
    "        plt.scatter(pts[:, 0], pts[:, 1], alpha=0.7)\n",
    "    plt.title(\"KMeans Clusters Vase Shapes Hu Moments \")\n",
    "    plt.show()"
   ]
  },
  {
   "cell_type": "code",
   "execution_count": 124,
   "metadata": {},
   "outputs": [
    {
     "data": {
      "image/png": "[encoded data removed]",
      "text/plain": [
       "<Figure size 800x600 with 1 Axes>"
      ]
     },
     "metadata": {},
     "output_type": "display_data"
    }
   ],
   "source": [
    "plot_shape_clusters(coords, labels)"
   ]
  },
  {
   "cell_type": "code",
   "execution_count": 127,
   "metadata": {},
   "outputs": [],
   "source": [
    "def save_all_clusters_to_one_sheet(image_paths, labels, output_path=\"../public/data/initial_test/clustered_shapes_contact_sheet.jpg\", thumb_size=(128, 128), images_per_row=10):\n",
    "    # Group images by cluster\n",
    "    clusters = {}\n",
    "    for path, label in zip(image_paths, labels):\n",
    "        clusters.setdefault(label, []).append(path)\n",
    "\n",
    "    # Compute layout\n",
    "    cluster_order = sorted(clusters.keys())\n",
    "    max_rows_per_cluster = [((len(clusters[c]) + images_per_row - 1) // images_per_row) for c in cluster_order]\n",
    "    total_rows = sum(max_rows_per_cluster)\n",
    "    sheet_width = images_per_row * thumb_size[0]\n",
    "    sheet_height = total_rows * thumb_size[1]\n",
    "\n",
    "    # Create canvas\n",
    "    contact_sheet = Image.new(\"RGB\", (sheet_width, sheet_height), color=\"white\")\n",
    "\n",
    "    y_offset = 0\n",
    "    for label in cluster_order:\n",
    "        paths = clusters[label]\n",
    "        for i, path in enumerate(paths):\n",
    "            img = Image.open(path).convert(\"RGB\").resize(thumb_size)\n",
    "            x = (i % images_per_row) * thumb_size[0]\n",
    "            y = y_offset + (i // images_per_row) * thumb_size[1]\n",
    "            contact_sheet.paste(img, (x, y))\n",
    "        y_offset += max_rows_per_cluster[label] * thumb_size[1]\n",
    "\n",
    "    contact_sheet.save(output_path)\n",
    "    print(f\"Saved full contact sheet: {output_path}\")"
   ]
  },
  {
   "cell_type": "code",
   "execution_count": 128,
   "metadata": {},
   "outputs": [
    {
     "name": "stdout",
     "output_type": "stream",
     "text": [
      "Saved full contact sheet: ../public/data/initial_test/clustered_shapes_contact_sheet.jpg\n"
     ]
    }
   ],
   "source": [
    "save_all_clusters_to_one_sheet(paths, labels)"
   ]
  }
 ],
 "metadata": {
  "kernelspec": {
   "display_name": "myenv",
   "language": "python",
   "name": "python3"
  },
  "language_info": {
   "codemirror_mode": {
    "name": "ipython",
    "version": 3
   },
   "file_extension": ".py",
   "mimetype": "text/x-python",
   "name": "python",
   "nbconvert_exporter": "python",
   "pygments_lexer": "ipython3",
   "version": "3.10.16"
  }
 },
 "nbformat": 4,
 "nbformat_minor": 2
}
